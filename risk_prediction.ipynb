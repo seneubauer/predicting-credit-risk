{
 "cells": [
  {
   "cell_type": "markdown",
   "id": "d40b6cc7",
   "metadata": {},
   "source": [
    "### Preliminary Assessment\n",
    "\n",
    "Given the binary nature of this dataset's output and the ability to trim out noisy variables if needed I predict the Logistic Regression will outperform the Random Forest Classifier."
   ]
  },
  {
   "cell_type": "markdown",
   "id": "a2ef1ea0",
   "metadata": {},
   "source": [
    "### Import Dependencies"
   ]
  },
  {
   "cell_type": "code",
   "execution_count": null,
   "id": "a866e703",
   "metadata": {},
   "outputs": [],
   "source": [
    "# data collection\n",
    "from os.path import join\n",
    "import pandas as pd\n",
    "\n",
    "# data visualization\n",
    "from matplotlib import pyplot as plt\n",
    "\n",
    "# machine learning\n",
    "from sklearn.ensemble import RandomForestClassifier\n",
    "from sklearn.linear_model import LogisticRegression\n",
    "from sklearn.model_selection import train_test_split\n",
    "from sklearn.preprocessing import StandardScaler\n",
    "from sklearn.metrics import classification_report"
   ]
  },
  {
   "cell_type": "markdown",
   "id": "6a1cc37f",
   "metadata": {},
   "source": [
    "### Functions"
   ]
  },
  {
   "cell_type": "code",
   "execution_count": null,
   "id": "d3dfe125",
   "metadata": {},
   "outputs": [],
   "source": [
    "# functions\n",
    "def test_model(model, data):\n",
    "    X_train_scaled, X_test_scaled, y_train, y_test = data\n",
    "    regression = model.fit(X_train_scaled, y_train)\n",
    "    print(f\"Model: {type(regression).__name__}\")\n",
    "    print(f\"Train Score:\\t {regression.score(X_train_scaled, y_train):,.4f}\")\n",
    "    print(f\"Test Score:\\t {regression.score(X_test_scaled, y_test):,.4f}\")\n",
    "    print(\"\")\n",
    "\n",
    "def predict_model(model, data):\n",
    "    X_train_scaled, X_test_scaled, y_train, y_test = data\n",
    "    regression = model.fit(X_train_scaled, y_train)\n",
    "    y_true = y_test\n",
    "    y_pred = model.predict(X_test)\n",
    "    return pd.DataFrame({\"Prediction\": y_pred, \"Actual\": y_true})"
   ]
  },
  {
   "cell_type": "markdown",
   "id": "374fb9c0",
   "metadata": {},
   "source": [
    "### Import & Prepare Data"
   ]
  },
  {
   "cell_type": "code",
   "execution_count": null,
   "id": "c08ff0af",
   "metadata": {},
   "outputs": [],
   "source": [
    "# import and preview the raw data\n",
    "raw_df = pd.read_csv(join(\"resources\", \"lending_data.csv\"))\n",
    "raw_df.head()"
   ]
  },
  {
   "cell_type": "code",
   "execution_count": null,
   "id": "b127d356",
   "metadata": {},
   "outputs": [],
   "source": [
    "# extract variables and outcome\n",
    "X = raw_df.drop(\"loan_status\", axis = 1).values\n",
    "y = raw_df[\"loan_status\"].values"
   ]
  },
  {
   "cell_type": "code",
   "execution_count": null,
   "id": "d9fd918c",
   "metadata": {},
   "outputs": [],
   "source": [
    "# create training and testing collections\n",
    "X_train, X_test, y_train, y_test = train_test_split(X, y, random_state = 1)"
   ]
  },
  {
   "cell_type": "code",
   "execution_count": null,
   "id": "0a308d16",
   "metadata": {},
   "outputs": [],
   "source": [
    "# scale the data\n",
    "scaler = StandardScaler().fit(X_train)\n",
    "X_train_scaled = scaler.transform(X_train)\n",
    "X_test_scaled = scaler.transform(X_test)"
   ]
  },
  {
   "cell_type": "code",
   "execution_count": null,
   "id": "370ec4f4",
   "metadata": {},
   "outputs": [],
   "source": [
    "# create the data list\n",
    "data = [X_train_scaled, X_test_scaled, y_train, y_test]"
   ]
  },
  {
   "cell_type": "markdown",
   "id": "6ebe5622",
   "metadata": {},
   "source": [
    "### Training and Testing"
   ]
  },
  {
   "cell_type": "code",
   "execution_count": null,
   "id": "387d577f",
   "metadata": {},
   "outputs": [],
   "source": [
    "# test the models\n",
    "test_model(LogisticRegression(), data)\n",
    "test_model(RandomForestClassifier(), data)"
   ]
  },
  {
   "cell_type": "markdown",
   "id": "577cbddd",
   "metadata": {},
   "source": [
    "### Predictions"
   ]
  },
  {
   "cell_type": "code",
   "execution_count": null,
   "id": "05a02a95",
   "metadata": {},
   "outputs": [],
   "source": [
    "# make predictions with the models\n",
    "lr_df = predict_model(LogisticRegression(), data)\n",
    "rfc_df = predict_model(RandomForestClassifier(), data)"
   ]
  },
  {
   "cell_type": "code",
   "execution_count": null,
   "id": "9ade02e4",
   "metadata": {},
   "outputs": [],
   "source": [
    "# measure accuracy\n",
    "lr_acc = []\n",
    "rfc_acc = []\n",
    "for i, row in lr_df.iterrows():\n",
    "    if row[\"Prediction\"] == row[\"Actual\"]:\n",
    "        lr_acc.append(1)\n",
    "    else:\n",
    "        lr_acc.append(0)\n",
    "        \n",
    "for i, row in rfc_df.iterrows():\n",
    "    if row[\"Prediction\"] == row[\"Actual\"]:\n",
    "        rfc_acc.append(1)\n",
    "    else:\n",
    "        rfc_acc.append(0)\n",
    "\n",
    "print(f\"Logistic Regression Prediction Accuracy: {sum(lr_acc) / len(lr_acc):,.3f}\")\n",
    "print(f\"Random Forest Classifier Prediction Accuracy: {sum(rfc_acc) / len(rfc_acc):,.3f}\")"
   ]
  },
  {
   "cell_type": "markdown",
   "id": "81a64cab",
   "metadata": {},
   "source": [
    "### Assessment\n",
    "\n",
    "While the training and testing scores show the two models perform nearly the same, the accuracy measurement showed the Logistic Regression (`0.968`) outperformed the Random Forest Classifier (`0.855`) by approximately 10% in prediction accuracy."
   ]
  },
  {
   "cell_type": "code",
   "execution_count": null,
   "id": "3e90e6c4",
   "metadata": {},
   "outputs": [],
   "source": []
  }
 ],
 "metadata": {
  "kernelspec": {
   "display_name": "Python 3 (ipykernel)",
   "language": "python",
   "name": "python3"
  },
  "language_info": {
   "codemirror_mode": {
    "name": "ipython",
    "version": 3
   },
   "file_extension": ".py",
   "mimetype": "text/x-python",
   "name": "python",
   "nbconvert_exporter": "python",
   "pygments_lexer": "ipython3",
   "version": "3.8.13"
  }
 },
 "nbformat": 4,
 "nbformat_minor": 5
}
